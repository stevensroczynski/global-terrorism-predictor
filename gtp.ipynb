{
 "cells": [
  {
   "cell_type": "markdown",
   "metadata": {},
   "source": [
    "## Global Terrorism Attribution Predictor"
   ]
  },
  {
   "cell_type": "markdown",
   "metadata": {},
   "source": [
    "In this project I..."
   ]
  },
  {
   "cell_type": "markdown",
   "metadata": {},
   "source": [
    "Imports and field variables"
   ]
  },
  {
   "cell_type": "code",
   "execution_count": 1,
   "metadata": {
    "scrolled": true
   },
   "outputs": [],
   "source": [
    "from kaggle.api.kaggle_api_extended import KaggleApi\n",
    "import pandas as pd\n",
    "from sklearn.linear_model import SGDClassifier\n",
    "from sklearn.ensemble import RandomForestClassifier\n",
    "from sklearn import preprocessing\n",
    "from sklearn.metrics import accuracy_score\n",
    "import matplotlib.pyplot as plt\n",
    "data_path = \"./data\""
   ]
  },
  {
   "cell_type": "markdown",
   "metadata": {},
   "source": [
    "Download Global Terrorism Database from Kaggle"
   ]
  },
  {
   "cell_type": "code",
   "execution_count": 2,
   "metadata": {},
   "outputs": [
    {
     "name": "stdout",
     "output_type": "stream",
     "text": [
      "gtd.zip: Skipping, found more recently modified local copy (use --force to force download)\n"
     ]
    }
   ],
   "source": [
    "api = KaggleApi()\n",
    "api.authenticate()\n",
    "api.dataset_download_files(\"START-UMD/gtd\", quiet=False, path=data_path)"
   ]
  },
  {
   "cell_type": "markdown",
   "metadata": {},
   "source": [
    "Read data into Pandas DataFrame"
   ]
  },
  {
   "cell_type": "code",
   "execution_count": 3,
   "metadata": {},
   "outputs": [],
   "source": [
    "# skipcols=lambda x: x not in [\"extended\", \"addnotes\", \"scite1\", \"scite2\", \"scite3\", \"dbsource\"]\n",
    "usecols=[\"iyear\",\n",
    "         \"suicide\",\n",
    "         \"imonth\",\n",
    "         \"country\",\n",
    "         \"region\",\n",
    "         \"provstate\",\n",
    "         \"city\",\n",
    "         \"alternative\",\n",
    "         \"attacktype1\",\n",
    "         \"targtype1\",\n",
    "         \"natlty1\",\n",
    "         \"gname\",\n",
    "         \"weaptype1\",\n",
    "         \"ransom\"]\n",
    "\n",
    "data = pd.read_csv(data_path + \"/gtd.zip\",\n",
    "                        encoding = \"ISO-8859-1\",\n",
    "                        compression='zip',\n",
    "                        usecols=usecols)"
   ]
  },
  {
   "cell_type": "markdown",
   "metadata": {},
   "source": [
    "set dTypes"
   ]
  },
  {
   "cell_type": "code",
   "execution_count": 4,
   "metadata": {},
   "outputs": [],
   "source": [
    "# data = pd.DataFrame(data.dropna())\n",
    "# data = data.fillna(value={0})\n",
    "data['alternative'] = data.alternative.astype('category')\n",
    "data['suicide'] = data.suicide.astype('category')\n",
    "data['iyear'] = data.iyear.astype('category')\n",
    "data['imonth'] = data.imonth.astype('category')\n",
    "data['country'] = data.country.astype('category')\n",
    "data['region'] = data.region.astype('category')\n",
    "data['provstate'] = data.provstate.astype('str').astype('category')\n",
    "data['city'] = data.city.astype('str').astype('category')\n",
    "data['attacktype1'] = data.attacktype1.astype('category')\n",
    "data['targtype1'] = data.targtype1.astype('category')\n",
    "data['natlty1'] = data.natlty1.astype('category')\n",
    "data['weaptype1'] = data.weaptype1.astype('category')\n",
    "data['ransom'] = data.ransom.astype('category')"
   ]
  },
  {
   "cell_type": "code",
   "execution_count": 5,
   "metadata": {},
   "outputs": [
    {
     "data": {
      "text/html": [
       "<div>\n",
       "<style scoped>\n",
       "    .dataframe tbody tr th:only-of-type {\n",
       "        vertical-align: middle;\n",
       "    }\n",
       "\n",
       "    .dataframe tbody tr th {\n",
       "        vertical-align: top;\n",
       "    }\n",
       "\n",
       "    .dataframe thead th {\n",
       "        text-align: right;\n",
       "    }\n",
       "</style>\n",
       "<table border=\"1\" class=\"dataframe\">\n",
       "  <thead>\n",
       "    <tr style=\"text-align: right;\">\n",
       "      <th></th>\n",
       "      <th>iyear</th>\n",
       "      <th>imonth</th>\n",
       "      <th>country</th>\n",
       "      <th>region</th>\n",
       "      <th>provstate</th>\n",
       "      <th>city</th>\n",
       "      <th>alternative</th>\n",
       "      <th>suicide</th>\n",
       "      <th>attacktype1</th>\n",
       "      <th>targtype1</th>\n",
       "      <th>natlty1</th>\n",
       "      <th>gname</th>\n",
       "      <th>weaptype1</th>\n",
       "      <th>ransom</th>\n",
       "    </tr>\n",
       "  </thead>\n",
       "  <tbody>\n",
       "    <tr>\n",
       "      <th>0</th>\n",
       "      <td>1970</td>\n",
       "      <td>7</td>\n",
       "      <td>58</td>\n",
       "      <td>2</td>\n",
       "      <td>nan</td>\n",
       "      <td>Santo Domingo</td>\n",
       "      <td>NaN</td>\n",
       "      <td>0</td>\n",
       "      <td>1</td>\n",
       "      <td>14</td>\n",
       "      <td>58.0</td>\n",
       "      <td>MANO-D</td>\n",
       "      <td>13</td>\n",
       "      <td>0.0</td>\n",
       "    </tr>\n",
       "    <tr>\n",
       "      <th>1</th>\n",
       "      <td>1970</td>\n",
       "      <td>0</td>\n",
       "      <td>130</td>\n",
       "      <td>1</td>\n",
       "      <td>Federal</td>\n",
       "      <td>Mexico city</td>\n",
       "      <td>NaN</td>\n",
       "      <td>0</td>\n",
       "      <td>6</td>\n",
       "      <td>7</td>\n",
       "      <td>21.0</td>\n",
       "      <td>23rd of September Communist League</td>\n",
       "      <td>13</td>\n",
       "      <td>1.0</td>\n",
       "    </tr>\n",
       "    <tr>\n",
       "      <th>2</th>\n",
       "      <td>1970</td>\n",
       "      <td>1</td>\n",
       "      <td>160</td>\n",
       "      <td>5</td>\n",
       "      <td>Tarlac</td>\n",
       "      <td>Unknown</td>\n",
       "      <td>NaN</td>\n",
       "      <td>0</td>\n",
       "      <td>1</td>\n",
       "      <td>10</td>\n",
       "      <td>217.0</td>\n",
       "      <td>Unknown</td>\n",
       "      <td>13</td>\n",
       "      <td>0.0</td>\n",
       "    </tr>\n",
       "    <tr>\n",
       "      <th>3</th>\n",
       "      <td>1970</td>\n",
       "      <td>1</td>\n",
       "      <td>78</td>\n",
       "      <td>8</td>\n",
       "      <td>Attica</td>\n",
       "      <td>Athens</td>\n",
       "      <td>NaN</td>\n",
       "      <td>0</td>\n",
       "      <td>3</td>\n",
       "      <td>7</td>\n",
       "      <td>217.0</td>\n",
       "      <td>Unknown</td>\n",
       "      <td>6</td>\n",
       "      <td>0.0</td>\n",
       "    </tr>\n",
       "    <tr>\n",
       "      <th>4</th>\n",
       "      <td>1970</td>\n",
       "      <td>1</td>\n",
       "      <td>101</td>\n",
       "      <td>4</td>\n",
       "      <td>Fukouka</td>\n",
       "      <td>Fukouka</td>\n",
       "      <td>NaN</td>\n",
       "      <td>0</td>\n",
       "      <td>7</td>\n",
       "      <td>7</td>\n",
       "      <td>217.0</td>\n",
       "      <td>Unknown</td>\n",
       "      <td>8</td>\n",
       "      <td>0.0</td>\n",
       "    </tr>\n",
       "  </tbody>\n",
       "</table>\n",
       "</div>"
      ],
      "text/plain": [
       "  iyear imonth country region provstate           city alternative suicide  \\\n",
       "0  1970      7      58      2       nan  Santo Domingo         NaN       0   \n",
       "1  1970      0     130      1   Federal    Mexico city         NaN       0   \n",
       "2  1970      1     160      5    Tarlac        Unknown         NaN       0   \n",
       "3  1970      1      78      8    Attica         Athens         NaN       0   \n",
       "4  1970      1     101      4   Fukouka        Fukouka         NaN       0   \n",
       "\n",
       "  attacktype1 targtype1 natlty1                               gname weaptype1  \\\n",
       "0           1        14    58.0                              MANO-D        13   \n",
       "1           6         7    21.0  23rd of September Communist League        13   \n",
       "2           1        10   217.0                             Unknown        13   \n",
       "3           3         7   217.0                             Unknown         6   \n",
       "4           7         7   217.0                             Unknown         8   \n",
       "\n",
       "  ransom  \n",
       "0    0.0  \n",
       "1    1.0  \n",
       "2    0.0  \n",
       "3    0.0  \n",
       "4    0.0  "
      ]
     },
     "execution_count": 5,
     "metadata": {},
     "output_type": "execute_result"
    }
   ],
   "source": [
    "pd.set_option('display.max_columns', None) \n",
    "data.head()"
   ]
  },
  {
   "cell_type": "code",
   "execution_count": 6,
   "metadata": {},
   "outputs": [
    {
     "data": {
      "text/html": [
       "<div>\n",
       "<style scoped>\n",
       "    .dataframe tbody tr th:only-of-type {\n",
       "        vertical-align: middle;\n",
       "    }\n",
       "\n",
       "    .dataframe tbody tr th {\n",
       "        vertical-align: top;\n",
       "    }\n",
       "\n",
       "    .dataframe thead th {\n",
       "        text-align: right;\n",
       "    }\n",
       "</style>\n",
       "<table border=\"1\" class=\"dataframe\">\n",
       "  <thead>\n",
       "    <tr style=\"text-align: right;\">\n",
       "      <th></th>\n",
       "      <th>iyear</th>\n",
       "      <th>imonth</th>\n",
       "      <th>country</th>\n",
       "      <th>region</th>\n",
       "      <th>provstate</th>\n",
       "      <th>city</th>\n",
       "      <th>alternative</th>\n",
       "      <th>suicide</th>\n",
       "      <th>attacktype1</th>\n",
       "      <th>targtype1</th>\n",
       "      <th>natlty1</th>\n",
       "      <th>gname</th>\n",
       "      <th>weaptype1</th>\n",
       "      <th>ransom</th>\n",
       "    </tr>\n",
       "  </thead>\n",
       "  <tbody>\n",
       "    <tr>\n",
       "      <th>count</th>\n",
       "      <td>181691</td>\n",
       "      <td>181691</td>\n",
       "      <td>181691</td>\n",
       "      <td>181691</td>\n",
       "      <td>181691</td>\n",
       "      <td>181691</td>\n",
       "      <td>29011.0</td>\n",
       "      <td>181691</td>\n",
       "      <td>181691</td>\n",
       "      <td>181691</td>\n",
       "      <td>180132.0</td>\n",
       "      <td>181691</td>\n",
       "      <td>181691</td>\n",
       "      <td>77381.0</td>\n",
       "    </tr>\n",
       "    <tr>\n",
       "      <th>unique</th>\n",
       "      <td>47</td>\n",
       "      <td>13</td>\n",
       "      <td>205</td>\n",
       "      <td>12</td>\n",
       "      <td>2856</td>\n",
       "      <td>36675</td>\n",
       "      <td>5.0</td>\n",
       "      <td>2</td>\n",
       "      <td>9</td>\n",
       "      <td>22</td>\n",
       "      <td>215.0</td>\n",
       "      <td>3537</td>\n",
       "      <td>12</td>\n",
       "      <td>3.0</td>\n",
       "    </tr>\n",
       "    <tr>\n",
       "      <th>top</th>\n",
       "      <td>2014</td>\n",
       "      <td>5</td>\n",
       "      <td>95</td>\n",
       "      <td>10</td>\n",
       "      <td>Baghdad</td>\n",
       "      <td>Unknown</td>\n",
       "      <td>1.0</td>\n",
       "      <td>0</td>\n",
       "      <td>3</td>\n",
       "      <td>14</td>\n",
       "      <td>95.0</td>\n",
       "      <td>Unknown</td>\n",
       "      <td>6</td>\n",
       "      <td>0.0</td>\n",
       "    </tr>\n",
       "    <tr>\n",
       "      <th>freq</th>\n",
       "      <td>16903</td>\n",
       "      <td>16875</td>\n",
       "      <td>24636</td>\n",
       "      <td>50474</td>\n",
       "      <td>7645</td>\n",
       "      <td>9775</td>\n",
       "      <td>23410.0</td>\n",
       "      <td>175058</td>\n",
       "      <td>88255</td>\n",
       "      <td>43511</td>\n",
       "      <td>24113.0</td>\n",
       "      <td>82782</td>\n",
       "      <td>92426</td>\n",
       "      <td>74684.0</td>\n",
       "    </tr>\n",
       "  </tbody>\n",
       "</table>\n",
       "</div>"
      ],
      "text/plain": [
       "         iyear  imonth  country  region provstate     city  alternative  \\\n",
       "count   181691  181691   181691  181691    181691   181691      29011.0   \n",
       "unique      47      13      205      12      2856    36675          5.0   \n",
       "top       2014       5       95      10   Baghdad  Unknown          1.0   \n",
       "freq     16903   16875    24636   50474      7645     9775      23410.0   \n",
       "\n",
       "        suicide  attacktype1  targtype1   natlty1    gname  weaptype1   ransom  \n",
       "count    181691       181691     181691  180132.0   181691     181691  77381.0  \n",
       "unique        2            9         22     215.0     3537         12      3.0  \n",
       "top           0            3         14      95.0  Unknown          6      0.0  \n",
       "freq     175058        88255      43511   24113.0    82782      92426  74684.0  "
      ]
     },
     "execution_count": 6,
     "metadata": {},
     "output_type": "execute_result"
    }
   ],
   "source": [
    "data.describe()"
   ]
  },
  {
   "cell_type": "markdown",
   "metadata": {},
   "source": [
    "Filter out unattributed attacks"
   ]
  },
  {
   "cell_type": "code",
   "execution_count": 7,
   "metadata": {},
   "outputs": [],
   "source": [
    "attributed = data.loc[data['gname'] != \"Unknown\"]"
   ]
  },
  {
   "cell_type": "code",
   "execution_count": 8,
   "metadata": {},
   "outputs": [
    {
     "data": {
      "text/html": [
       "<div>\n",
       "<style scoped>\n",
       "    .dataframe tbody tr th:only-of-type {\n",
       "        vertical-align: middle;\n",
       "    }\n",
       "\n",
       "    .dataframe tbody tr th {\n",
       "        vertical-align: top;\n",
       "    }\n",
       "\n",
       "    .dataframe thead th {\n",
       "        text-align: right;\n",
       "    }\n",
       "</style>\n",
       "<table border=\"1\" class=\"dataframe\">\n",
       "  <thead>\n",
       "    <tr style=\"text-align: right;\">\n",
       "      <th></th>\n",
       "      <th>iyear</th>\n",
       "      <th>imonth</th>\n",
       "      <th>country</th>\n",
       "      <th>region</th>\n",
       "      <th>provstate</th>\n",
       "      <th>city</th>\n",
       "      <th>alternative</th>\n",
       "      <th>suicide</th>\n",
       "      <th>attacktype1</th>\n",
       "      <th>targtype1</th>\n",
       "      <th>natlty1</th>\n",
       "      <th>gname</th>\n",
       "      <th>weaptype1</th>\n",
       "      <th>ransom</th>\n",
       "    </tr>\n",
       "  </thead>\n",
       "  <tbody>\n",
       "    <tr>\n",
       "      <th>59195</th>\n",
       "      <td>1995</td>\n",
       "      <td>5</td>\n",
       "      <td>92</td>\n",
       "      <td>6</td>\n",
       "      <td>Jammu and Kashmir</td>\n",
       "      <td>Srinagar</td>\n",
       "      <td>NaN</td>\n",
       "      <td>0</td>\n",
       "      <td>8</td>\n",
       "      <td>20</td>\n",
       "      <td>92.0</td>\n",
       "      <td>Muslim Separatists</td>\n",
       "      <td>9</td>\n",
       "      <td>0.0</td>\n",
       "    </tr>\n",
       "    <tr>\n",
       "      <th>38330</th>\n",
       "      <td>1989</td>\n",
       "      <td>5</td>\n",
       "      <td>45</td>\n",
       "      <td>3</td>\n",
       "      <td>Santander</td>\n",
       "      <td>Bucaramanga</td>\n",
       "      <td>NaN</td>\n",
       "      <td>0</td>\n",
       "      <td>1</td>\n",
       "      <td>2</td>\n",
       "      <td>45.0</td>\n",
       "      <td>National Liberation Army of Colombia (ELN)</td>\n",
       "      <td>5</td>\n",
       "      <td>0.0</td>\n",
       "    </tr>\n",
       "    <tr>\n",
       "      <th>40900</th>\n",
       "      <td>1989</td>\n",
       "      <td>12</td>\n",
       "      <td>186</td>\n",
       "      <td>6</td>\n",
       "      <td>Southern</td>\n",
       "      <td>Hakmana</td>\n",
       "      <td>NaN</td>\n",
       "      <td>0</td>\n",
       "      <td>2</td>\n",
       "      <td>14</td>\n",
       "      <td>186.0</td>\n",
       "      <td>People's Liberation Front (JVP)</td>\n",
       "      <td>5</td>\n",
       "      <td>0.0</td>\n",
       "    </tr>\n",
       "    <tr>\n",
       "      <th>73810</th>\n",
       "      <td>2002</td>\n",
       "      <td>1</td>\n",
       "      <td>45</td>\n",
       "      <td>3</td>\n",
       "      <td>Valle del Cauca</td>\n",
       "      <td>Cali</td>\n",
       "      <td>2.0</td>\n",
       "      <td>0</td>\n",
       "      <td>2</td>\n",
       "      <td>10</td>\n",
       "      <td>45.0</td>\n",
       "      <td>Gunmen</td>\n",
       "      <td>5</td>\n",
       "      <td>NaN</td>\n",
       "    </tr>\n",
       "    <tr>\n",
       "      <th>38291</th>\n",
       "      <td>1989</td>\n",
       "      <td>5</td>\n",
       "      <td>8</td>\n",
       "      <td>11</td>\n",
       "      <td>Cuanza Norte</td>\n",
       "      <td>Unknown</td>\n",
       "      <td>NaN</td>\n",
       "      <td>0</td>\n",
       "      <td>3</td>\n",
       "      <td>21</td>\n",
       "      <td>8.0</td>\n",
       "      <td>National Union for the Total Independence of A...</td>\n",
       "      <td>6</td>\n",
       "      <td>0.0</td>\n",
       "    </tr>\n",
       "  </tbody>\n",
       "</table>\n",
       "</div>"
      ],
      "text/plain": [
       "      iyear imonth country region          provstate         city alternative  \\\n",
       "59195  1995      5      92      6  Jammu and Kashmir     Srinagar         NaN   \n",
       "38330  1989      5      45      3          Santander  Bucaramanga         NaN   \n",
       "40900  1989     12     186      6           Southern      Hakmana         NaN   \n",
       "73810  2002      1      45      3    Valle del Cauca         Cali         2.0   \n",
       "38291  1989      5       8     11       Cuanza Norte      Unknown         NaN   \n",
       "\n",
       "      suicide attacktype1 targtype1 natlty1  \\\n",
       "59195       0           8        20    92.0   \n",
       "38330       0           1         2    45.0   \n",
       "40900       0           2        14   186.0   \n",
       "73810       0           2        10    45.0   \n",
       "38291       0           3        21     8.0   \n",
       "\n",
       "                                                   gname weaptype1 ransom  \n",
       "59195                                 Muslim Separatists         9    0.0  \n",
       "38330         National Liberation Army of Colombia (ELN)         5    0.0  \n",
       "40900                    People's Liberation Front (JVP)         5    0.0  \n",
       "73810                                             Gunmen         5    NaN  \n",
       "38291  National Union for the Total Independence of A...         6    0.0  "
      ]
     },
     "execution_count": 8,
     "metadata": {},
     "output_type": "execute_result"
    }
   ],
   "source": [
    "# attributed = pd.DataFrame(attributed.dropna())\n",
    "# attributed = attributed.iloc[:10000]\n",
    "attributed = attributed.sample(frac=1)\n",
    "attributed.head()"
   ]
  },
  {
   "cell_type": "code",
   "execution_count": 9,
   "metadata": {},
   "outputs": [
    {
     "data": {
      "text/html": [
       "<div>\n",
       "<style scoped>\n",
       "    .dataframe tbody tr th:only-of-type {\n",
       "        vertical-align: middle;\n",
       "    }\n",
       "\n",
       "    .dataframe tbody tr th {\n",
       "        vertical-align: top;\n",
       "    }\n",
       "\n",
       "    .dataframe thead th {\n",
       "        text-align: right;\n",
       "    }\n",
       "</style>\n",
       "<table border=\"1\" class=\"dataframe\">\n",
       "  <thead>\n",
       "    <tr style=\"text-align: right;\">\n",
       "      <th></th>\n",
       "      <th>iyear</th>\n",
       "      <th>imonth</th>\n",
       "      <th>country</th>\n",
       "      <th>region</th>\n",
       "      <th>provstate</th>\n",
       "      <th>city</th>\n",
       "      <th>alternative</th>\n",
       "      <th>suicide</th>\n",
       "      <th>attacktype1</th>\n",
       "      <th>targtype1</th>\n",
       "      <th>natlty1</th>\n",
       "      <th>gname</th>\n",
       "      <th>weaptype1</th>\n",
       "      <th>ransom</th>\n",
       "    </tr>\n",
       "  </thead>\n",
       "  <tbody>\n",
       "    <tr>\n",
       "      <th>59195</th>\n",
       "      <td>24</td>\n",
       "      <td>5</td>\n",
       "      <td>70</td>\n",
       "      <td>5</td>\n",
       "      <td>783</td>\n",
       "      <td>22168</td>\n",
       "      <td>36226</td>\n",
       "      <td>0</td>\n",
       "      <td>7</td>\n",
       "      <td>19</td>\n",
       "      <td>69</td>\n",
       "      <td>2134</td>\n",
       "      <td>7</td>\n",
       "      <td>1</td>\n",
       "    </tr>\n",
       "    <tr>\n",
       "      <th>38330</th>\n",
       "      <td>19</td>\n",
       "      <td>5</td>\n",
       "      <td>31</td>\n",
       "      <td>2</td>\n",
       "      <td>1582</td>\n",
       "      <td>3978</td>\n",
       "      <td>51037</td>\n",
       "      <td>0</td>\n",
       "      <td>0</td>\n",
       "      <td>1</td>\n",
       "      <td>31</td>\n",
       "      <td>2201</td>\n",
       "      <td>3</td>\n",
       "      <td>1</td>\n",
       "    </tr>\n",
       "    <tr>\n",
       "      <th>40900</th>\n",
       "      <td>19</td>\n",
       "      <td>12</td>\n",
       "      <td>143</td>\n",
       "      <td>5</td>\n",
       "      <td>1691</td>\n",
       "      <td>9140</td>\n",
       "      <td>51036</td>\n",
       "      <td>0</td>\n",
       "      <td>1</td>\n",
       "      <td>13</td>\n",
       "      <td>145</td>\n",
       "      <td>2458</td>\n",
       "      <td>3</td>\n",
       "      <td>1</td>\n",
       "    </tr>\n",
       "    <tr>\n",
       "      <th>73810</th>\n",
       "      <td>31</td>\n",
       "      <td>1</td>\n",
       "      <td>31</td>\n",
       "      <td>2</td>\n",
       "      <td>1851</td>\n",
       "      <td>4425</td>\n",
       "      <td>1</td>\n",
       "      <td>0</td>\n",
       "      <td>1</td>\n",
       "      <td>9</td>\n",
       "      <td>31</td>\n",
       "      <td>1329</td>\n",
       "      <td>3</td>\n",
       "      <td>26161</td>\n",
       "    </tr>\n",
       "    <tr>\n",
       "      <th>38291</th>\n",
       "      <td>19</td>\n",
       "      <td>5</td>\n",
       "      <td>4</td>\n",
       "      <td>10</td>\n",
       "      <td>453</td>\n",
       "      <td>23975</td>\n",
       "      <td>51035</td>\n",
       "      <td>0</td>\n",
       "      <td>2</td>\n",
       "      <td>20</td>\n",
       "      <td>3</td>\n",
       "      <td>2239</td>\n",
       "      <td>4</td>\n",
       "      <td>1</td>\n",
       "    </tr>\n",
       "  </tbody>\n",
       "</table>\n",
       "</div>"
      ],
      "text/plain": [
       "       iyear  imonth  country  region  provstate   city  alternative  suicide  \\\n",
       "59195     24       5       70       5        783  22168        36226        0   \n",
       "38330     19       5       31       2       1582   3978        51037        0   \n",
       "40900     19      12      143       5       1691   9140        51036        0   \n",
       "73810     31       1       31       2       1851   4425            1        0   \n",
       "38291     19       5        4      10        453  23975        51035        0   \n",
       "\n",
       "       attacktype1  targtype1  natlty1  gname  weaptype1  ransom  \n",
       "59195            7         19       69   2134          7       1  \n",
       "38330            0          1       31   2201          3       1  \n",
       "40900            1         13      145   2458          3       1  \n",
       "73810            1          9       31   1329          3   26161  \n",
       "38291            2         20        3   2239          4       1  "
      ]
     },
     "execution_count": 9,
     "metadata": {},
     "output_type": "execute_result"
    }
   ],
   "source": [
    "to_fit = attributed.select_dtypes(include=['object'])\n",
    "le = preprocessing.LabelEncoder()\n",
    "attributed = attributed.apply(le.fit_transform)\n",
    "attributed.head()"
   ]
  },
  {
   "cell_type": "code",
   "execution_count": 10,
   "metadata": {},
   "outputs": [],
   "source": [
    "# 1. INSTANTIATE\n",
    "# enc = preprocessing.OneHotEncoder()\n",
    "\n",
    "# # 2. FIT\n",
    "# enc.fit(attributed)\n",
    "\n",
    "# 3. Transform\n",
    "# onehotlabels = enc.transform(attributed).toarray()\n",
    "# attributed = pd.get_dummies(attributed)\n",
    "# attributed.shape"
   ]
  },
  {
   "cell_type": "markdown",
   "metadata": {},
   "source": [
    "Making a copy of the attributeddataframe which does not contain the dependent variable"
   ]
  },
  {
   "cell_type": "code",
   "execution_count": 11,
   "metadata": {},
   "outputs": [
    {
     "data": {
      "text/plain": [
       "(98909, 13)"
      ]
     },
     "execution_count": 11,
     "metadata": {},
     "output_type": "execute_result"
    }
   ],
   "source": [
    "independent_vars = attributed.copy()\n",
    "independent_vars = independent_vars[independent_vars.columns.drop(list(independent_vars.filter(regex='gname')))]\n",
    "independent_vars.shape"
   ]
  },
  {
   "cell_type": "markdown",
   "metadata": {},
   "source": [
    "Making a dataframe with of the dependent variables (organizations to which the attacks were attribued)"
   ]
  },
  {
   "cell_type": "code",
   "execution_count": 12,
   "metadata": {},
   "outputs": [
    {
     "data": {
      "text/plain": [
       "(98909, 1)"
      ]
     },
     "execution_count": 12,
     "metadata": {},
     "output_type": "execute_result"
    }
   ],
   "source": [
    "dependent_vars = pd.DataFrame(attributed.loc[:,list(attributed.filter(regex='gname'))])\n",
    "dependent_vars.shape"
   ]
  },
  {
   "cell_type": "markdown",
   "metadata": {},
   "source": [
    "Split the data into training and test sets"
   ]
  },
  {
   "cell_type": "code",
   "execution_count": 13,
   "metadata": {},
   "outputs": [
    {
     "name": "stdout",
     "output_type": "stream",
     "text": [
      "(69236, 13)\n",
      "(29673, 13)\n",
      "(69236, 1)\n",
      "(29673, 1)\n"
     ]
    }
   ],
   "source": [
    "independant_size = independent_vars.shape\n",
    "dependant_size = dependent_vars.shape\n",
    "if independant_size[0] != dependant_size[0]:\n",
    "    raise ValueError('Independent and Dependant DFs do not match')\n",
    "\n",
    "split_size = int(independant_size[0] * 0.7)\n",
    "\n",
    "training_independant_vars = independent_vars.iloc[:split_size]\n",
    "test_independant_vars = independent_vars.iloc[split_size:]\n",
    "print(training_independant_vars.shape)\n",
    "print(test_independant_vars.shape)\n",
    "\n",
    "training_dependant_vars = dependent_vars.iloc[:split_size]\n",
    "test_dependant_vars = dependent_vars.iloc[split_size:]\n",
    "\n",
    "print(training_dependant_vars.shape)\n",
    "print(test_dependant_vars.shape)"
   ]
  },
  {
   "cell_type": "markdown",
   "metadata": {},
   "source": [
    "TODO: Implement Training model"
   ]
  },
  {
   "cell_type": "code",
   "execution_count": 14,
   "metadata": {},
   "outputs": [
    {
     "name": "stdout",
     "output_type": "stream",
     "text": [
      "building tree 1 of 35\n"
     ]
    },
    {
     "name": "stderr",
     "output_type": "stream",
     "text": [
      "[Parallel(n_jobs=1)]: Using backend SequentialBackend with 1 concurrent workers.\n",
      "[Parallel(n_jobs=1)]: Done   1 out of   1 | elapsed:    3.4s remaining:    0.0s\n"
     ]
    },
    {
     "name": "stdout",
     "output_type": "stream",
     "text": [
      "building tree 2 of 35\n"
     ]
    },
    {
     "name": "stderr",
     "output_type": "stream",
     "text": [
      "[Parallel(n_jobs=1)]: Done   2 out of   2 | elapsed:    6.6s remaining:    0.0s\n"
     ]
    },
    {
     "name": "stdout",
     "output_type": "stream",
     "text": [
      "building tree 3 of 35\n"
     ]
    },
    {
     "name": "stderr",
     "output_type": "stream",
     "text": [
      "[Parallel(n_jobs=1)]: Done   3 out of   3 | elapsed:    9.8s remaining:    0.0s\n"
     ]
    },
    {
     "name": "stdout",
     "output_type": "stream",
     "text": [
      "building tree 4 of 35\n"
     ]
    },
    {
     "name": "stderr",
     "output_type": "stream",
     "text": [
      "[Parallel(n_jobs=1)]: Done   4 out of   4 | elapsed:   12.9s remaining:    0.0s\n"
     ]
    },
    {
     "name": "stdout",
     "output_type": "stream",
     "text": [
      "building tree 5 of 35\n"
     ]
    },
    {
     "name": "stderr",
     "output_type": "stream",
     "text": [
      "[Parallel(n_jobs=1)]: Done   5 out of   5 | elapsed:   16.1s remaining:    0.0s\n"
     ]
    },
    {
     "name": "stdout",
     "output_type": "stream",
     "text": [
      "building tree 6 of 35\n"
     ]
    },
    {
     "name": "stderr",
     "output_type": "stream",
     "text": [
      "[Parallel(n_jobs=1)]: Done   6 out of   6 | elapsed:   19.2s remaining:    0.0s\n"
     ]
    },
    {
     "name": "stdout",
     "output_type": "stream",
     "text": [
      "building tree 7 of 35\n"
     ]
    },
    {
     "name": "stderr",
     "output_type": "stream",
     "text": [
      "[Parallel(n_jobs=1)]: Done   7 out of   7 | elapsed:   22.2s remaining:    0.0s\n"
     ]
    },
    {
     "name": "stdout",
     "output_type": "stream",
     "text": [
      "building tree 8 of 35\n"
     ]
    },
    {
     "name": "stderr",
     "output_type": "stream",
     "text": [
      "[Parallel(n_jobs=1)]: Done   8 out of   8 | elapsed:   25.7s remaining:    0.0s\n"
     ]
    },
    {
     "name": "stdout",
     "output_type": "stream",
     "text": [
      "building tree 9 of 35\n"
     ]
    },
    {
     "name": "stderr",
     "output_type": "stream",
     "text": [
      "[Parallel(n_jobs=1)]: Done   9 out of   9 | elapsed:   28.7s remaining:    0.0s\n"
     ]
    },
    {
     "name": "stdout",
     "output_type": "stream",
     "text": [
      "building tree 10 of 35\n",
      "building tree 11 of 35\n",
      "building tree 12 of 35\n",
      "building tree 13 of 35\n",
      "building tree 14 of 35\n",
      "building tree 15 of 35\n",
      "building tree 16 of 35\n",
      "building tree 17 of 35\n",
      "building tree 18 of 35\n",
      "building tree 19 of 35\n",
      "building tree 20 of 35\n",
      "building tree 21 of 35\n",
      "building tree 22 of 35\n",
      "building tree 23 of 35\n",
      "building tree 24 of 35\n",
      "building tree 25 of 35\n",
      "building tree 26 of 35\n",
      "building tree 27 of 35\n",
      "building tree 28 of 35\n",
      "building tree 29 of 35\n",
      "building tree 30 of 35\n",
      "building tree 31 of 35\n",
      "building tree 32 of 35\n",
      "building tree 33 of 35\n",
      "building tree 34 of 35\n",
      "building tree 35 of 35\n"
     ]
    },
    {
     "name": "stderr",
     "output_type": "stream",
     "text": [
      "[Parallel(n_jobs=1)]: Done  35 out of  35 | elapsed:  1.9min finished\n",
      "[Parallel(n_jobs=1)]: Using backend SequentialBackend with 1 concurrent workers.\n",
      "[Parallel(n_jobs=1)]: Done   1 out of   1 | elapsed:    2.0s remaining:    0.0s\n",
      "[Parallel(n_jobs=1)]: Done   2 out of   2 | elapsed:    2.7s remaining:    0.0s\n",
      "[Parallel(n_jobs=1)]: Done   3 out of   3 | elapsed:    3.4s remaining:    0.0s\n",
      "[Parallel(n_jobs=1)]: Done   4 out of   4 | elapsed:    4.1s remaining:    0.0s\n",
      "[Parallel(n_jobs=1)]: Done   5 out of   5 | elapsed:    4.8s remaining:    0.0s\n",
      "[Parallel(n_jobs=1)]: Done   6 out of   6 | elapsed:    5.5s remaining:    0.0s\n",
      "[Parallel(n_jobs=1)]: Done   7 out of   7 | elapsed:    6.2s remaining:    0.0s\n",
      "[Parallel(n_jobs=1)]: Done   8 out of   8 | elapsed:    6.9s remaining:    0.0s\n",
      "[Parallel(n_jobs=1)]: Done   9 out of   9 | elapsed:    7.6s remaining:    0.0s\n",
      "[Parallel(n_jobs=1)]: Done  35 out of  35 | elapsed:   25.9s finished\n"
     ]
    },
    {
     "name": "stdout",
     "output_type": "stream",
     "text": [
      "Accuracy is 76.50052236039497%\n"
     ]
    }
   ],
   "source": [
    "reg = RandomForestClassifier(verbose=10, n_estimators=35, warm_start=True)\n",
    "reg.fit(training_independant_vars, training_dependant_vars.values.ravel())\n",
    "# reg.fit(train_fold, train_y.values.ravel())\n",
    "predictions = reg.predict(test_independant_vars)\n",
    "total = accuracy_score(test_dependant_vars, predictions)\n",
    "print(\"Accuracy is {}%\".format(total * 100))\n"
   ]
  },
  {
   "cell_type": "code",
   "execution_count": null,
   "metadata": {},
   "outputs": [],
   "source": []
  }
 ],
 "metadata": {
  "kernelspec": {
   "display_name": "Python 3",
   "language": "python",
   "name": "python3"
  },
  "language_info": {
   "codemirror_mode": {
    "name": "ipython",
    "version": 3
   },
   "file_extension": ".py",
   "mimetype": "text/x-python",
   "name": "python",
   "nbconvert_exporter": "python",
   "pygments_lexer": "ipython3",
   "version": "3.6.6"
  }
 },
 "nbformat": 4,
 "nbformat_minor": 2
}
